{
 "cells": [
  {
   "cell_type": "markdown",
   "id": "d8828649-f658-4ddc-85e8-8085bf4c2c84",
   "metadata": {},
   "source": [
    "# Codigo python para la app"
   ]
  },
  {
   "cell_type": "code",
   "execution_count": null,
   "id": "e260ab38-1ba5-40a9-8ff6-b70d81fce8bf",
   "metadata": {},
   "outputs": [],
   "source": []
  }
 ],
 "metadata": {
  "kernelspec": {
   "display_name": "Python 3 (ipykernel)",
   "language": "python",
   "name": "python3"
  },
  "language_info": {
   "codemirror_mode": {
    "name": "ipython",
    "version": 3
   },
   "file_extension": ".py",
   "mimetype": "text/x-python",
   "name": "python",
   "nbconvert_exporter": "python",
   "pygments_lexer": "ipython3",
   "version": "3.12.0"
  }
 },
 "nbformat": 4,
 "nbformat_minor": 5
}
